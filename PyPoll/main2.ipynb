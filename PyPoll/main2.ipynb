{
 "cells": [
  {
   "cell_type": "code",
   "execution_count": 16,
   "id": "e45d23e8-6a60-46e2-9e59-ab1ccc43873e",
   "metadata": {
    "tags": []
   },
   "outputs": [],
   "source": [
    "# Import Dependencies\n",
    "\n",
    "import pandas as pd\n",
    "import csv"
   ]
  },
  {
   "cell_type": "code",
   "execution_count": 17,
   "id": "005752f1-3e3b-48d5-b3db-e0f251ffd644",
   "metadata": {
    "tags": []
   },
   "outputs": [],
   "source": [
    "# Read file CSV\n",
    "\n",
    "file_csv='Resources/election_data.csv'\n",
    "df = pd.read_csv('Resources/election_data.csv')"
   ]
  },
  {
   "cell_type": "code",
   "execution_count": 18,
   "id": "bdc23027-7c4b-4285-82aa-8bc987528e19",
   "metadata": {
    "tags": []
   },
   "outputs": [
    {
     "name": "stdout",
     "output_type": "stream",
     "text": [
      "Header Row: ['Ballot ID', 'County', 'Candidate']\n"
     ]
    }
   ],
   "source": [
    "# Stores the header row\n",
    "\n",
    "with open('Resources/election_data.csv', 'r') as file:\n",
    "    csv_reader = csv.reader(file)\n",
    "    header_row = next(csv_reader)\n",
    "    print(\"Header Row:\", header_row)"
   ]
  },
  {
   "cell_type": "code",
   "execution_count": 19,
   "id": "5b105151-1d02-473d-84a0-b61d49d629e0",
   "metadata": {
    "tags": []
   },
   "outputs": [],
   "source": [
    "# The total number of votes cast\n",
    "\n",
    "total_votes = df['Ballot ID'].count()"
   ]
  },
  {
   "cell_type": "code",
   "execution_count": 20,
   "id": "3c770f91-d595-4e1b-a5b7-c30371c8b360",
   "metadata": {
    "tags": []
   },
   "outputs": [
    {
     "name": "stdout",
     "output_type": "stream",
     "text": [
      "The total number of votes cast: 369711\n"
     ]
    }
   ],
   "source": [
    "# Print count of votes\n",
    "\n",
    "print(f\"The total number of votes cast: {total_votes}\")"
   ]
  },
  {
   "cell_type": "code",
   "execution_count": 21,
   "id": "ed24edad-1e69-4af7-a6b4-292e1ac8dfe6",
   "metadata": {
    "tags": []
   },
   "outputs": [],
   "source": [
    "# The percentage of votes each candidate won\n",
    "\n",
    "votes_per_candidate = df['Candidate'].value_counts()\n",
    "percentage_per_candidate = (votes_per_candidate / total_votes) * 100"
   ]
  },
  {
   "cell_type": "code",
   "execution_count": 22,
   "id": "a6a4e449-8567-4725-a636-325f115c6fd3",
   "metadata": {
    "tags": []
   },
   "outputs": [
    {
     "name": "stdout",
     "output_type": "stream",
     "text": [
      "The percentage of votes each candidate won:\n",
      "Diana DeGette: 73.812%, (272892)\n",
      "Charles Casper Stockham: 23.049%, (85213)\n",
      "Raymon Anthony Doane: 3.139%, (11606)\n"
     ]
    }
   ],
   "source": [
    "# Print results\n",
    "\n",
    "print(\"The percentage of votes each candidate won:\")\n",
    "for candidate, percentage in percentage_per_candidate.items():\n",
    "    votes = votes_per_candidate[candidate]\n",
    "    print(f\"{candidate}: {percentage:.3f}%, ({votes})\")"
   ]
  },
  {
   "cell_type": "code",
   "execution_count": 23,
   "id": "f77299c1-7f67-473e-95f9-ac8018942836",
   "metadata": {
    "tags": []
   },
   "outputs": [],
   "source": [
    "# Show winner\n",
    "\n",
    "winner = votes_per_candidate.idxmax()"
   ]
  },
  {
   "cell_type": "code",
   "execution_count": 24,
   "id": "69ea5743-f9a8-4dbf-9a02-9447c5f06ca0",
   "metadata": {
    "tags": []
   },
   "outputs": [
    {
     "name": "stdout",
     "output_type": "stream",
     "text": [
      "\n",
      " Winner: Diana DeGette\n"
     ]
    }
   ],
   "source": [
    "# Print winner\n",
    "\n",
    "print(f\"\\n Winner: {winner}\")"
   ]
  },
  {
   "cell_type": "code",
   "execution_count": 25,
   "id": "f4657eb9-261f-4a3f-8779-7eaacc37acd0",
   "metadata": {
    "tags": []
   },
   "outputs": [
    {
     "name": "stdout",
     "output_type": "stream",
     "text": [
      "\n",
      "Election Results\n",
      "-------------------------\n",
      "Total Votes: 369711\n",
      "-------------------------\n",
      "Charles Casper Stockham: 23.049%, 85213\n",
      "Diana DeGette: 73.812%, 272892\n",
      "Raymon Anthony Doane: 3.139%, 11606\n",
      "-------------------------\n",
      "Winner: Diana DeGette\n",
      "-------------------------\n",
      "\n"
     ]
    }
   ],
   "source": [
    "# String with the results\n",
    "results = f\"\"\"\n",
    "Election Results\n",
    "-------------------------\n",
    "Total Votes: {total_votes}\n",
    "-------------------------\n",
    "Charles Casper Stockham: {percentage_per_candidate['Charles Casper Stockham']:.3f}%, {votes_per_candidate['Charles Casper Stockham']}\n",
    "Diana DeGette: {percentage_per_candidate['Diana DeGette']:.3f}%, {votes_per_candidate['Diana DeGette']}\n",
    "Raymon Anthony Doane: {percentage_per_candidate['Raymon Anthony Doane']:.3f}%, {votes_per_candidate['Raymon Anthony Doane']}\n",
    "-------------------------\n",
    "Winner: {winner}\n",
    "-------------------------\n",
    "\"\"\"\n",
    "\n",
    "print(results)"
   ]
  },
  {
   "cell_type": "code",
   "execution_count": 26,
   "id": "3b87e8a3-4d72-4402-9eec-95b812281302",
   "metadata": {
    "tags": []
   },
   "outputs": [],
   "source": [
    "# Output file\n",
    "\n",
    "output_file = 'analysis2.txt'"
   ]
  },
  {
   "cell_type": "code",
   "execution_count": 27,
   "id": "1fb792d9-d981-4df9-b31d-cff1b3a8b306",
   "metadata": {
    "tags": []
   },
   "outputs": [],
   "source": [
    "# Export the string to a text file\n",
    "\n",
    "with open(output_file, 'w') as file:\n",
    "     file.write(results)"
   ]
  }
 ],
 "metadata": {
  "kernelspec": {
   "display_name": "Python 3 (ipykernel)",
   "language": "python",
   "name": "python3"
  },
  "language_info": {
   "codemirror_mode": {
    "name": "ipython",
    "version": 3
   },
   "file_extension": ".py",
   "mimetype": "text/x-python",
   "name": "python",
   "nbconvert_exporter": "python",
   "pygments_lexer": "ipython3",
   "version": "3.11.5"
  }
 },
 "nbformat": 4,
 "nbformat_minor": 5
}
