{
 "cells": [
  {
   "cell_type": "code",
   "execution_count": 38,
   "id": "db48ab6d-89cf-42b2-a838-8ca7f0260048",
   "metadata": {
    "tags": []
   },
   "outputs": [],
   "source": [
    "# Import Dependencies\n",
    "\n",
    "import pandas as pd\n",
    "import csv"
   ]
  },
  {
   "cell_type": "code",
   "execution_count": 39,
   "id": "66356a00-7e33-458c-ab2d-919640df4294",
   "metadata": {
    "tags": []
   },
   "outputs": [],
   "source": [
    "# Read file CSV\n",
    "\n",
    "file_csv='Resources_/budget_data.csv'\n",
    "df = pd.read_csv('Resources_/budget_data.csv')"
   ]
  },
  {
   "cell_type": "code",
   "execution_count": 40,
   "id": "cd2085ab-1ec6-43b8-a86e-4480631071e1",
   "metadata": {},
   "outputs": [
    {
     "name": "stdout",
     "output_type": "stream",
     "text": [
      "Header Row: ['Date', 'Profit/Losses']\n"
     ]
    }
   ],
   "source": [
    "# Stores the header row\n",
    "\n",
    "with open('Resources_/budget_data.csv', 'r') as file:\n",
    "    csv_reader = csv.reader(file)\n",
    "    header_row = next(csv_reader)\n",
    "    print(\"Header Row:\", header_row)"
   ]
  },
  {
   "cell_type": "code",
   "execution_count": 41,
   "id": "1aa26339-7597-4486-aa72-70c0cd99b549",
   "metadata": {
    "tags": []
   },
   "outputs": [],
   "source": [
    "# The total number of months included in the dataset\n",
    "\n",
    "df['Date'] = pd.to_datetime(df['Date'], format='%b-%y', errors='coerce')\n",
    "quantity_months = df['Date'].dt.to_period(\"M\").nunique()"
   ]
  },
  {
   "cell_type": "code",
   "execution_count": 42,
   "id": "56886a73-8500-48c9-ad01-6574a0c20477",
   "metadata": {
    "tags": []
   },
   "outputs": [
    {
     "name": "stdout",
     "output_type": "stream",
     "text": [
      "Total Months: 86\n"
     ]
    }
   ],
   "source": [
    "# Print quantity of months\n",
    "print(f\"Total Months: {quantity_months}\")"
   ]
  },
  {
   "cell_type": "code",
   "execution_count": 43,
   "id": "2ce6ac25-295d-4227-a0db-d5c9951a6be6",
   "metadata": {
    "tags": []
   },
   "outputs": [],
   "source": [
    "# Net total amount of \"Profit/Losses\"\n",
    "total_profit_losses = df['Profit/Losses'].sum()"
   ]
  },
  {
   "cell_type": "code",
   "execution_count": 44,
   "id": "ba6b51e8-fa8b-4809-bdf0-916f1aed05c6",
   "metadata": {
    "tags": []
   },
   "outputs": [
    {
     "name": "stdout",
     "output_type": "stream",
     "text": [
      "Total: $22564198\n"
     ]
    }
   ],
   "source": [
    "# Print Total\n",
    "print(f\"Total: ${total_profit_losses}\")"
   ]
  },
  {
   "cell_type": "code",
   "execution_count": 45,
   "id": "c2846a48-3840-4f70-ae3d-60d0b0faeb9a",
   "metadata": {
    "tags": []
   },
   "outputs": [],
   "source": [
    "# Changes in \"Profit/Losses\"and average amount\n",
    "df['Change_Profit/Losses'] = df['Profit/Losses'].diff()\n",
    "average_change = df['Change_Profit/Losses'].mean()"
   ]
  },
  {
   "cell_type": "code",
   "execution_count": 46,
   "id": "8b6475b3-a804-44de-8d1b-35381bfe0378",
   "metadata": {
    "tags": []
   },
   "outputs": [
    {
     "name": "stdout",
     "output_type": "stream",
     "text": [
      "Average Change: $ -8311.11\n"
     ]
    }
   ],
   "source": [
    "# Print Average\n",
    "print(f\"Average Change: $ {average_change:.2f}\")"
   ]
  },
  {
   "cell_type": "code",
   "execution_count": 47,
   "id": "13292f38-67df-4c40-a143-5ae58e443565",
   "metadata": {
    "tags": []
   },
   "outputs": [],
   "source": [
    "# The greatest increase\n",
    "\n",
    "max_increase_date = df.loc[df['Change_Profit/Losses'].idxmax(), 'Date']\n",
    "max_increase_amount = df['Change_Profit/Losses'].max()\n"
   ]
  },
  {
   "cell_type": "code",
   "execution_count": 48,
   "id": "2e8bc5f8-65dd-48f3-8d28-94efa3d78e4c",
   "metadata": {},
   "outputs": [
    {
     "name": "stdout",
     "output_type": "stream",
     "text": [
      "Greatest Increase in Profits: Aug-16, ($1862002.00)\n"
     ]
    }
   ],
   "source": [
    "print(f\"Greatest Increase in Profits: {max_increase_date.strftime('%b-%y')}, (${max_increase_amount:.2f})\")"
   ]
  },
  {
   "cell_type": "code",
   "execution_count": 49,
   "id": "1c58e37b-c0a7-4b09-8c65-b4fd0363ea4d",
   "metadata": {},
   "outputs": [],
   "source": [
    "# The greatest decrease\n",
    "\n",
    "max_decrease_date = df.loc[df['Change_Profit/Losses'].idxmin(), 'Date']\n",
    "max_decrease_amount = df['Change_Profit/Losses'].min()\n"
   ]
  },
  {
   "cell_type": "code",
   "execution_count": 50,
   "id": "a1c8a103-65f6-4b82-b193-083af756d5e6",
   "metadata": {
    "tags": []
   },
   "outputs": [
    {
     "name": "stdout",
     "output_type": "stream",
     "text": [
      "Greatest Decrease in Profits: Feb-14, ($-1825558.00)\n"
     ]
    }
   ],
   "source": [
    "print(f\"Greatest Decrease in Profits: {max_decrease_date.strftime('%b-%y')}, (${max_decrease_amount:.2f})\")"
   ]
  },
  {
   "cell_type": "code",
   "execution_count": 51,
   "id": "2871a2aa-e47a-495a-bfe2-a316207bbdf5",
   "metadata": {
    "tags": []
   },
   "outputs": [],
   "source": [
    "# String with the results\n",
    "results = f\"\"\"\n",
    "Financial Analysis\n",
    "----------------------------\n",
    "Total Months: {quantity_months}\n",
    "Total: ${total_profit_losses}\n",
    "Average changes : ${average_change:.2f}\n",
    "Greatest Increase in Profits: {max_increase_date.strftime('%b-%y')}, (${max_increase_amount:.0f})\n",
    "Greatest Decrease in Profits: {max_decrease_date.strftime('%b-%y')}, (${max_decrease_amount:.0f})\n",
    "\"\"\""
   ]
  },
  {
   "cell_type": "code",
   "execution_count": 52,
   "id": "23b1b42a-c7a2-4aa9-8d86-c07e245e2362",
   "metadata": {
    "tags": []
   },
   "outputs": [
    {
     "name": "stdout",
     "output_type": "stream",
     "text": [
      "\n",
      "Financial Analysis\n",
      "----------------------------\n",
      "Total Months: 86\n",
      "Total: $22564198\n",
      "Average changes : $-8311.11\n",
      "Greatest Increase in Profits: Aug-16, ($1862002)\n",
      "Greatest Decrease in Profits: Feb-14, ($-1825558)\n",
      "\n"
     ]
    }
   ],
   "source": [
    "print(results)\n"
   ]
  },
  {
   "cell_type": "code",
   "execution_count": 53,
   "id": "44eaaf40-af0b-452e-9b5d-95c377a3edf5",
   "metadata": {
    "tags": []
   },
   "outputs": [],
   "source": [
    "with open('analysis.txt', 'w') as file:\n",
    "    file.write(results)"
   ]
  }
 ],
 "metadata": {
  "kernelspec": {
   "display_name": "Python 3 (ipykernel)",
   "language": "python",
   "name": "python3"
  },
  "language_info": {
   "codemirror_mode": {
    "name": "ipython",
    "version": 3
   },
   "file_extension": ".py",
   "mimetype": "text/x-python",
   "name": "python",
   "nbconvert_exporter": "python",
   "pygments_lexer": "ipython3",
   "version": "3.11.5"
  }
 },
 "nbformat": 4,
 "nbformat_minor": 5
}
